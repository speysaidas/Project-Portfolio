{
 "cells": [
  {
   "cell_type": "code",
   "execution_count": null,
   "metadata": {},
   "outputs": [
    {
     "data": {
      "text/plain": [
       "[1, 3, 5, 7, 9]"
      ]
     },
     "execution_count": 117,
     "metadata": {},
     "output_type": "execute_result"
    }
   ],
   "source": [
    "#1. Create a list of 10 elements and remove all elements that are even.\n",
    "\n",
    "list_one = [1, 2, 3, 4, 5, 6, 7, 8, 9, 10]\n",
    "\n",
    "list_one = [x for x in list_one if x % 2 != 0] \n",
    "\n",
    "list_one"
   ]
  },
  {
   "cell_type": "code",
   "execution_count": null,
   "metadata": {},
   "outputs": [
    {
     "data": {
      "text/plain": [
       "'Number is outside the range'"
      ]
     },
     "execution_count": 115,
     "metadata": {},
     "output_type": "execute_result"
    }
   ],
   "source": [
    "#2. Write a function that checks whether a number is between 10 and 50.\n",
    "\n",
    "def range_check(n):\n",
    "    if 10 <= n <= 50:\n",
    "        return 'Number is in the range '\n",
    "    else:\n",
    "        return 'Number is outside the range'\n",
    "    \n",
    "range_check(9.9)"
   ]
  },
  {
   "cell_type": "code",
   "execution_count": null,
   "metadata": {},
   "outputs": [
    {
     "data": {
      "text/plain": [
       "'List is empty'"
      ]
     },
     "execution_count": 114,
     "metadata": {},
     "output_type": "execute_result"
    }
   ],
   "source": [
    "#3. Write a function that returns the last element of a list if the list is not empty.\n",
    "\n",
    "def last_element(alist):\n",
    "    if len(alist) != 0:\n",
    "        return (alist[-1])\n",
    "    else:\n",
    "        return 'List is empty'\n",
    "    \n",
    "last_element([])\n",
    "    "
   ]
  },
  {
   "cell_type": "code",
   "execution_count": null,
   "metadata": {},
   "outputs": [
    {
     "name": "stdout",
     "output_type": "stream",
     "text": [
      "1 1\n",
      "2 4\n",
      "3 9\n",
      "4 16\n",
      "5 25\n",
      "6 36\n",
      "7 49\n",
      "8 64\n",
      "9 81\n",
      "10 100\n"
     ]
    }
   ],
   "source": [
    "#4. Write a loop that prints each number from 1 to 10 along with its square.\n",
    "\n",
    "for i in range(1,11):\n",
    "    print(i, i**2)"
   ]
  },
  {
   "cell_type": "code",
   "execution_count": null,
   "metadata": {},
   "outputs": [
    {
     "data": {
      "text/plain": [
       "-8"
      ]
     },
     "execution_count": 74,
     "metadata": {},
     "output_type": "execute_result"
    }
   ],
   "source": [
    "#5. Write a function that calculates the sum of all negative numbers in a list.\n",
    "\n",
    "def sum_negative(alist):\n",
    "    negative_numbers = (x for x in alist if x < 0)\n",
    "    return sum(negative_numbers)\n",
    "    \n",
    "sum_negative([1, -1, -3, -4])\n"
   ]
  },
  {
   "cell_type": "code",
   "execution_count": null,
   "metadata": {},
   "outputs": [
    {
     "data": {
      "text/plain": [
       "25"
      ]
     },
     "execution_count": 118,
     "metadata": {},
     "output_type": "execute_result"
    }
   ],
   "source": [
    "#6. Write a function that counts the number of all positive numbers in a list.\n",
    "def sum_positive(alist):\n",
    "    positive_numbers = (x for x in alist if x > 0)\n",
    "    return sum(positive_numbers)\n",
    "    \n",
    "sum_positive(list_one)"
   ]
  },
  {
   "cell_type": "code",
   "execution_count": null,
   "metadata": {},
   "outputs": [
    {
     "data": {
      "text/plain": [
       "'No duplicates'"
      ]
     },
     "execution_count": 98,
     "metadata": {},
     "output_type": "execute_result"
    }
   ],
   "source": [
    "#7. Write a function that checks whether there are no duplicates in a list.\n",
    "\n",
    "def duplicate_check(alist):\n",
    "    if  len(alist) != len(set(alist)):\n",
    "        return 'Contains duplicates'\n",
    "    else:\n",
    "        return 'No duplicates'\n",
    "\n",
    "duplicate_check([1, 2, 3, 4])"
   ]
  },
  {
   "cell_type": "code",
   "execution_count": null,
   "metadata": {},
   "outputs": [
    {
     "data": {
      "text/plain": [
       "4"
      ]
     },
     "execution_count": 113,
     "metadata": {},
     "output_type": "execute_result"
    }
   ],
   "source": [
    "#8. Write a function that returns how many words in a text start with a capital letter.\n",
    "\n",
    "def capital_letters(text):\n",
    "    return len([x for x in text.split() if x[0].isupper()])\n",
    "\n",
    "capital_letters('Testing if It works On this Sentence')\n"
   ]
  },
  {
   "cell_type": "code",
   "execution_count": null,
   "metadata": {},
   "outputs": [],
   "source": []
  }
 ],
 "metadata": {
  "kernelspec": {
   "display_name": "Python 3",
   "language": "python",
   "name": "python3"
  },
  "language_info": {
   "codemirror_mode": {
    "name": "ipython",
    "version": 3
   },
   "file_extension": ".py",
   "mimetype": "text/x-python",
   "name": "python",
   "nbconvert_exporter": "python",
   "pygments_lexer": "ipython3",
   "version": "3.12.8"
  }
 },
 "nbformat": 4,
 "nbformat_minor": 2
}
